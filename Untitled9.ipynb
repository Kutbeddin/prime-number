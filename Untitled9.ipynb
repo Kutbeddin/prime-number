{
  "nbformat": 4,
  "nbformat_minor": 0,
  "metadata": {
    "colab": {
      "name": "Untitled9.ipynb",
      "provenance": []
    },
    "kernelspec": {
      "name": "python3",
      "display_name": "Python 3"
    },
    "language_info": {
      "name": "python"
    }
  },
  "cells": [
    {
      "cell_type": "code",
      "metadata": {
        "id": "J4bOXBu3vlk0"
      },
      "source": [
        "number = int(input(\"bir sayı girin:\"))\n",
        "if number < 2 :\n",
        "  print(\"{} asal sayı değildir.\".format(number))\n",
        "if number==2 :\n",
        "  print(\"2 bir asal sayıdır\")\n",
        "if number > 2:\n",
        "    for i in range(2,number):\n",
        "        if (number%i) == 0 :\n",
        "            print(\"{} bir asal değildir\".format(number))\n",
        "            break\n",
        "    else:\n",
        "            print(\"{} bir asal sayıdır.\".format(number))"
      ],
      "execution_count": null,
      "outputs": []
    }
  ]
}